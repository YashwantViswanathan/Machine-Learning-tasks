{
 "cells": [
  {
   "cell_type": "code",
   "execution_count": 76,
   "id": "ca7fee83-e024-42c9-b8ed-dc966f3f0e1d",
   "metadata": {
    "tags": []
   },
   "outputs": [
    {
     "name": "stdout",
     "output_type": "stream",
     "text": [
      "      sex  age  height  weight  waistline  sight_left  sight_right  hear_left  \\\n",
      "0    Male   35     170      75       90.0         1.0          1.0          1   \n",
      "1    Male   30     180      80       89.0         0.9          1.2          1   \n",
      "2    Male   40     165      75       91.0         1.2          1.5          1   \n",
      "3    Male   50     175      80       91.0         1.5          1.2          1   \n",
      "4    Male   50     165      60       80.0         1.0          1.2          1   \n",
      "5    Male   50     165      55       75.0         1.2          1.5          1   \n",
      "6  Female   45     150      55       69.0         0.5          0.4          1   \n",
      "7    Male   35     175      65       84.2         1.2          1.0          1   \n",
      "8    Male   55     170      75       84.0         1.2          0.9          1   \n",
      "9    Male   40     175      75       82.0         1.5          1.5          1   \n",
      "\n",
      "   hear_right  SBP  ...  LDL_chole  triglyceride  hemoglobin  urine_protein  \\\n",
      "0           1  120  ...        126            92        17.1              1   \n",
      "1           1  130  ...        148           121        15.8              1   \n",
      "2           1  120  ...         74           104        15.8              1   \n",
      "3           1  145  ...        104           106        17.6              1   \n",
      "4           1  138  ...        117           104        13.8              1   \n",
      "5           1  142  ...         95           232        13.8              3   \n",
      "6           1  101  ...        115            75        12.3              1   \n",
      "7           1  132  ...        107           101        14.4              1   \n",
      "8           1  145  ...        141           100        15.1              1   \n",
      "9           1  132  ...        118            83        13.9              1   \n",
      "\n",
      "   serum_creatinine  SGOT_AST  SGOT_ALT  gamma_GTP  SMK_stat_type_cd  DRK_YN  \n",
      "0               1.0        21        35         40                 1       Y  \n",
      "1               0.9        20        36         27                 3       N  \n",
      "2               0.9        47        32         68                 1       N  \n",
      "3               1.1        29        34         18                 1       N  \n",
      "4               0.8        19        12         25                 1       N  \n",
      "5               0.8        29        40         37                 3       Y  \n",
      "6               0.8        19        12         12                 1       N  \n",
      "7               0.8        18        18         35                 3       Y  \n",
      "8               0.8        32        23         26                 1       Y  \n",
      "9               0.9        21        38         16                 2       Y  \n",
      "\n",
      "[10 rows x 24 columns]\n",
      "                 age         height         weight      waistline  \\\n",
      "count  991346.000000  991346.000000  991346.000000  991346.000000   \n",
      "mean       47.614491     162.240625      63.284050      81.233358   \n",
      "std        14.181339       9.282957      12.514241      11.850323   \n",
      "min        20.000000     130.000000      25.000000       8.000000   \n",
      "25%        35.000000     155.000000      55.000000      74.100000   \n",
      "50%        45.000000     160.000000      60.000000      81.000000   \n",
      "75%        60.000000     170.000000      70.000000      87.800000   \n",
      "max        85.000000     190.000000     140.000000     999.000000   \n",
      "\n",
      "          sight_left    sight_right      hear_left     hear_right  \\\n",
      "count  991346.000000  991346.000000  991346.000000  991346.000000   \n",
      "mean        0.980834       0.978429       1.031495       1.030476   \n",
      "std         0.605949       0.604774       0.174650       0.171892   \n",
      "min         0.100000       0.100000       1.000000       1.000000   \n",
      "25%         0.700000       0.700000       1.000000       1.000000   \n",
      "50%         1.000000       1.000000       1.000000       1.000000   \n",
      "75%         1.200000       1.200000       1.000000       1.000000   \n",
      "max         9.900000       9.900000       2.000000       2.000000   \n",
      "\n",
      "                 SBP            DBP  ...      HDL_chole      LDL_chole  \\\n",
      "count  991346.000000  991346.000000  ...  991346.000000  991346.000000   \n",
      "mean      122.432498      76.052627  ...      56.936800     113.037692   \n",
      "std        14.543148       9.889365  ...      17.238479      35.842812   \n",
      "min        67.000000      32.000000  ...       1.000000       1.000000   \n",
      "25%       112.000000      70.000000  ...      46.000000      89.000000   \n",
      "50%       120.000000      76.000000  ...      55.000000     111.000000   \n",
      "75%       131.000000      82.000000  ...      66.000000     135.000000   \n",
      "max       273.000000     185.000000  ...    8110.000000    5119.000000   \n",
      "\n",
      "        triglyceride     hemoglobin  urine_protein  serum_creatinine  \\\n",
      "count  991346.000000  991346.000000  991346.000000     991346.000000   \n",
      "mean      132.141751      14.229824       1.094224          0.860467   \n",
      "std       102.196985       1.584929       0.437724          0.480530   \n",
      "min         1.000000       1.000000       1.000000          0.100000   \n",
      "25%        73.000000      13.200000       1.000000          0.700000   \n",
      "50%       106.000000      14.300000       1.000000          0.800000   \n",
      "75%       159.000000      15.400000       1.000000          1.000000   \n",
      "max      9490.000000      25.000000       6.000000         98.000000   \n",
      "\n",
      "            SGOT_AST       SGOT_ALT      gamma_GTP  SMK_stat_type_cd  \n",
      "count  991346.000000  991346.000000  991346.000000     991346.000000  \n",
      "mean       25.989308      25.755051      37.136347          1.608122  \n",
      "std        23.493386      26.308599      50.424153          0.818507  \n",
      "min         1.000000       1.000000       1.000000          1.000000  \n",
      "25%        19.000000      15.000000      16.000000          1.000000  \n",
      "50%        23.000000      20.000000      23.000000          1.000000  \n",
      "75%        28.000000      29.000000      39.000000          2.000000  \n",
      "max      9999.000000    7210.000000     999.000000          3.000000  \n",
      "\n",
      "[8 rows x 22 columns]\n",
      "Index(['sex', 'age', 'height', 'weight', 'waistline', 'sight_left',\n",
      "       'sight_right', 'hear_left', 'hear_right', 'SBP', 'DBP', 'BLDS',\n",
      "       'tot_chole', 'HDL_chole', 'LDL_chole', 'triglyceride', 'hemoglobin',\n",
      "       'urine_protein', 'serum_creatinine', 'SGOT_AST', 'SGOT_ALT',\n",
      "       'gamma_GTP', 'SMK_stat_type_cd', 'DRK_YN'],\n",
      "      dtype='object')\n",
      "<bound method DataFrame.info of            sex  age  height  weight  waistline  sight_left  sight_right  \\\n",
      "0         Male   35     170      75       90.0         1.0          1.0   \n",
      "1         Male   30     180      80       89.0         0.9          1.2   \n",
      "2         Male   40     165      75       91.0         1.2          1.5   \n",
      "3         Male   50     175      80       91.0         1.5          1.2   \n",
      "4         Male   50     165      60       80.0         1.0          1.2   \n",
      "...        ...  ...     ...     ...        ...         ...          ...   \n",
      "991341    Male   45     175      80       92.1         1.5          1.5   \n",
      "991342    Male   35     170      75       86.0         1.0          1.5   \n",
      "991343  Female   40     155      50       68.0         1.0          0.7   \n",
      "991344    Male   25     175      60       72.0         1.5          1.0   \n",
      "991345    Male   50     160      70       90.5         1.0          1.5   \n",
      "\n",
      "        hear_left  hear_right  SBP  ...  LDL_chole  triglyceride  hemoglobin  \\\n",
      "0               1           1  120  ...        126            92        17.1   \n",
      "1               1           1  130  ...        148           121        15.8   \n",
      "2               1           1  120  ...         74           104        15.8   \n",
      "3               1           1  145  ...        104           106        17.6   \n",
      "4               1           1  138  ...        117           104        13.8   \n",
      "...           ...         ...  ...  ...        ...           ...         ...   \n",
      "991341          1           1  114  ...        125           132        15.0   \n",
      "991342          1           1  119  ...         84            45        15.8   \n",
      "991343          1           1  110  ...         77           157        14.3   \n",
      "991344          1           1  119  ...         73            53        14.5   \n",
      "991345          1           1  133  ...        153           163        15.8   \n",
      "\n",
      "        urine_protein  serum_creatinine  SGOT_AST  SGOT_ALT  gamma_GTP  \\\n",
      "0                   1               1.0        21        35         40   \n",
      "1                   1               0.9        20        36         27   \n",
      "2                   1               0.9        47        32         68   \n",
      "3                   1               1.1        29        34         18   \n",
      "4                   1               0.8        19        12         25   \n",
      "...               ...               ...       ...       ...        ...   \n",
      "991341              1               1.0        26        36         27   \n",
      "991342              1               1.1        14        17         15   \n",
      "991343              1               0.8        30        27         17   \n",
      "991344              1               0.8        21        14         17   \n",
      "991345              1               0.9        24        43         36   \n",
      "\n",
      "        SMK_stat_type_cd  DRK_YN  \n",
      "0                      1       Y  \n",
      "1                      3       N  \n",
      "2                      1       N  \n",
      "3                      1       N  \n",
      "4                      1       N  \n",
      "...                  ...     ...  \n",
      "991341                 1       N  \n",
      "991342                 1       N  \n",
      "991343                 3       Y  \n",
      "991344                 1       N  \n",
      "991345                 3       Y  \n",
      "\n",
      "[991346 rows x 24 columns]>\n",
      "sex                  object\n",
      "age                   int64\n",
      "height                int64\n",
      "weight                int64\n",
      "waistline           float64\n",
      "sight_left          float64\n",
      "sight_right         float64\n",
      "hear_left             int64\n",
      "hear_right            int64\n",
      "SBP                   int64\n",
      "DBP                   int64\n",
      "BLDS                  int64\n",
      "tot_chole             int64\n",
      "HDL_chole             int64\n",
      "LDL_chole             int64\n",
      "triglyceride          int64\n",
      "hemoglobin          float64\n",
      "urine_protein         int64\n",
      "serum_creatinine    float64\n",
      "SGOT_AST              int64\n",
      "SGOT_ALT              int64\n",
      "gamma_GTP             int64\n",
      "SMK_stat_type_cd      int64\n",
      "DRK_YN               object\n",
      "dtype: object\n"
     ]
    }
   ],
   "source": [
    "import numpy as np\n",
    "import pandas as pd\n",
    "import matplotlib.pyplot as plt\n",
    "import seaborn as sns\n",
    "\n",
    "from pandas.plotting import scatter_matrix\n",
    "\n",
    "df = pd.read_csv('Documents/smoking_drinking.csv')\n",
    "\n",
    "print(df.head(10))\n",
    "print(df.describe())\n",
    "print(df.columns)\n",
    "print(df.info)\n",
    "print(df.dtypes)"
   ]
  },
  {
   "cell_type": "code",
   "execution_count": 77,
   "id": "4e09f54b-1b81-482f-9f99-aca9b63a2b38",
   "metadata": {
    "tags": []
   },
   "outputs": [
    {
     "name": "stdout",
     "output_type": "stream",
     "text": [
      "sex                 0\n",
      "age                 0\n",
      "height              0\n",
      "weight              0\n",
      "waistline           0\n",
      "sight_left          0\n",
      "sight_right         0\n",
      "hear_left           0\n",
      "hear_right          0\n",
      "SBP                 0\n",
      "DBP                 0\n",
      "BLDS                0\n",
      "tot_chole           0\n",
      "HDL_chole           0\n",
      "LDL_chole           0\n",
      "triglyceride        0\n",
      "hemoglobin          0\n",
      "urine_protein       0\n",
      "serum_creatinine    0\n",
      "SGOT_AST            0\n",
      "SGOT_ALT            0\n",
      "gamma_GTP           0\n",
      "SMK_stat_type_cd    0\n",
      "DRK_YN              0\n",
      "dtype: int64\n",
      "object\n",
      "object\n"
     ]
    }
   ],
   "source": [
    "from sklearn.ensemble import RandomForestClassifier\n",
    "from sklearn.metrics import accuracy_score, confusion_matrix, precision_score, recall_score, ConfusionMatrixDisplay\n",
    "from sklearn.model_selection import RandomizedSearchCV, train_test_split\n",
    "from scipy.stats import randint\n",
    "\n",
    "#print(df.columns)\n",
    "\n",
    "#Checking for missing values \n",
    "print(df.isnull().sum())\n",
    "#Concluded no missing values\n",
    "\n",
    "print(df['sex'].dtype)\n",
    "print(df['DRK_YN'].dtype)\n",
    "\n",
    "#Converting the data to numericals, to create better feasibility of analysis\n",
    "df['DRK_YN'] = df['DRK_YN'].map({'Y': 1, 'N': 0, 'unknown': 0})\n",
    "df['sex'] = df['sex'].map({'Male':1, 'Female':0})\n"
   ]
  },
  {
   "cell_type": "code",
   "execution_count": 78,
   "id": "a56cf595-9790-45ca-852d-79e79ae61fa3",
   "metadata": {
    "tags": []
   },
   "outputs": [],
   "source": [
    "#Splitting train and test sets\n",
    "X = df.drop('DRK_YN', axis = 1)\n",
    "y = df['DRK_YN']\n",
    "\n",
    "X_train, X_test, y_train, y_test = train_test_split(X, y, test_size = 0.2)"
   ]
  },
  {
   "cell_type": "code",
   "execution_count": 81,
   "id": "ed6e3fe4-ec00-4fd4-9a6f-46df67417a23",
   "metadata": {
    "tags": []
   },
   "outputs": [
    {
     "name": "stdout",
     "output_type": "stream",
     "text": [
      "gamma_GTP           0.076318\n",
      "age                 0.068187\n",
      "SMK_stat_type_cd    0.063370\n",
      "hemoglobin          0.061546\n",
      "HDL_chole           0.060763\n",
      "triglyceride        0.056559\n",
      "height              0.055638\n",
      "LDL_chole           0.052560\n",
      "tot_chole           0.051719\n",
      "BLDS                0.050297\n",
      "SGOT_ALT            0.049923\n",
      "waistline           0.049213\n",
      "SBP                 0.046196\n",
      "SGOT_AST            0.043523\n",
      "DBP                 0.043451\n",
      "sex                 0.041054\n",
      "sight_left          0.030431\n",
      "serum_creatinine    0.030402\n",
      "sight_right         0.030131\n",
      "weight              0.029901\n",
      "urine_protein       0.005040\n",
      "hear_left           0.001929\n",
      "hear_right          0.001848\n",
      "dtype: float64\n",
      "New model accuracy score is: 0.7335\n"
     ]
    }
   ],
   "source": [
    "clf = RandomForestClassifier(n_estimators = 100, random_state = 0)\n",
    "clf.fit(X_train, y_train)\n",
    "\n",
    "feature_scores = pd.Series(clf.feature_importances_, index=X_train.columns).sort_values(ascending=False)\n",
    "print(feature_scores)\n",
    "\n",
    "y_pred = clf.predict(X_test)\n",
    "\n",
    "print(\"New model accuracy score is: {0:0.4f}\".format(accuracy_score(y_test, y_pred)))\n",
    "\n"
   ]
  },
  {
   "cell_type": "code",
   "execution_count": 82,
   "id": "80e1215e-64af-4424-9883-f28d1b8824c1",
   "metadata": {
    "tags": []
   },
   "outputs": [
    {
     "name": "stdout",
     "output_type": "stream",
     "text": [
      "Accuracy:  0.7334947294093912\n"
     ]
    }
   ],
   "source": [
    "accuracy = accuracy_score(y_test, y_pred)\n",
    "print(\"Accuracy: \", accuracy)\n"
   ]
  },
  {
   "cell_type": "code",
   "execution_count": 83,
   "id": "69b229c2-586f-4bce-841b-c713e414ef63",
   "metadata": {
    "tags": []
   },
   "outputs": [],
   "source": [
    "accuracy = accuracy_score(y_test, y_pred)\n",
    "precision = precision_score(y_test, y_pred)\n",
    "recall = recall_score(y_test, y_pred)\n"
   ]
  },
  {
   "cell_type": "code",
   "execution_count": 84,
   "id": "c2bc7a7a-d2d7-4177-8213-32567e47eccc",
   "metadata": {
    "tags": []
   },
   "outputs": [
    {
     "name": "stdout",
     "output_type": "stream",
     "text": [
      "Accuracy:  0.7334947294093912\n",
      "Precision:  0.7328667807874333\n",
      "Recall:  0.7344790699551932\n"
     ]
    }
   ],
   "source": [
    "print(\"Accuracy: \", accuracy)\n",
    "print(\"Precision: \", precision)\n",
    "print(\"Recall: \", recall)"
   ]
  },
  {
   "cell_type": "code",
   "execution_count": 85,
   "id": "418bc00b-3385-46d4-9672-0c136ef1eaa8",
   "metadata": {
    "tags": []
   },
   "outputs": [
    {
     "name": "stdout",
     "output_type": "stream",
     "text": [
      "AUC:  0.733\n"
     ]
    }
   ],
   "source": [
    "from sklearn.metrics import roc_auc_score\n",
    "\n",
    "auc = np.round(roc_auc_score(y_test, y_pred),3)\n",
    "print(\"AUC: \", auc)"
   ]
  },
  {
   "cell_type": "code",
   "execution_count": 86,
   "id": "91dbfee6-9bea-4eec-8189-b0810dc108bb",
   "metadata": {
    "tags": []
   },
   "outputs": [
    {
     "data": {
      "text/plain": [
       "<sklearn.metrics._plot.confusion_matrix.ConfusionMatrixDisplay at 0x1302b3f90>"
      ]
     },
     "execution_count": 86,
     "metadata": {},
     "output_type": "execute_result"
    },
    {
     "data": {
      "image/png": "[encoded data removed]",
      "text/plain": [
       "<Figure size 640x480 with 2 Axes>"
      ]
     },
     "metadata": {},
     "output_type": "display_data"
    }
   ],
   "source": [
    "cm = confusion_matrix(y_test, y_pred)\n",
    "ConfusionMatrixDisplay(confusion_matrix = cm).plot()\n"
   ]
  },
  {
   "cell_type": "code",
   "execution_count": null,
   "id": "e3fc90e8-b667-4b11-abe0-680b9e0a2dfd",
   "metadata": {},
   "outputs": [],
   "source": []
  }
 ],
 "metadata": {
  "kernelspec": {
   "display_name": "Python 3 (ipykernel)",
   "language": "python",
   "name": "python3"
  },
  "language_info": {
   "codemirror_mode": {
    "name": "ipython",
    "version": 3
   },
   "file_extension": ".py",
   "mimetype": "text/x-python",
   "name": "python",
   "nbconvert_exporter": "python",
   "pygments_lexer": "ipython3",
   "version": "3.11.3"
  }
 },
 "nbformat": 4,
 "nbformat_minor": 5
}
