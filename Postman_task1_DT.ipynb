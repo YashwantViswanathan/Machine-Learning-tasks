{
 "cells": [
  {
   "cell_type": "code",
   "execution_count": 1,
   "id": "26536a06-b71d-4153-9141-fc61b2cbd8c3",
   "metadata": {
    "tags": []
   },
   "outputs": [],
   "source": [
    "import numpy as np\n",
    "import pandas as pd\n",
    "import matplotlib.pyplot as plt\n",
    "import seaborn as sns\n"
   ]
  },
  {
   "cell_type": "code",
   "execution_count": 2,
   "id": "ac353acd-837e-4384-acdd-0e2ac14f56c2",
   "metadata": {
    "tags": []
   },
   "outputs": [],
   "source": [
    "from sklearn.tree import DecisionTreeClassifier\n",
    "from sklearn.model_selection import train_test_split\n",
    "from sklearn import metrics\n"
   ]
  },
  {
   "cell_type": "code",
   "execution_count": 18,
   "id": "d9b8b657-1d4d-4a1e-b582-ff7db65936ab",
   "metadata": {
    "tags": []
   },
   "outputs": [
    {
     "name": "stdout",
     "output_type": "stream",
     "text": [
      "    sex  age  height  weight  waistline  sight_left  sight_right  hear_left  \\\n",
      "0  Male   35     170      75       90.0         1.0          1.0          1   \n",
      "1  Male   30     180      80       89.0         0.9          1.2          1   \n",
      "2  Male   40     165      75       91.0         1.2          1.5          1   \n",
      "3  Male   50     175      80       91.0         1.5          1.2          1   \n",
      "4  Male   50     165      60       80.0         1.0          1.2          1   \n",
      "\n",
      "   hear_right  SBP  ...  LDL_chole  triglyceride  hemoglobin  urine_protein  \\\n",
      "0           1  120  ...        126            92        17.1              1   \n",
      "1           1  130  ...        148           121        15.8              1   \n",
      "2           1  120  ...         74           104        15.8              1   \n",
      "3           1  145  ...        104           106        17.6              1   \n",
      "4           1  138  ...        117           104        13.8              1   \n",
      "\n",
      "   serum_creatinine  SGOT_AST  SGOT_ALT  gamma_GTP  SMK_stat_type_cd  DRK_YN  \n",
      "0               1.0        21        35         40                 1       Y  \n",
      "1               0.9        20        36         27                 3       N  \n",
      "2               0.9        47        32         68                 1       N  \n",
      "3               1.1        29        34         18                 1       N  \n",
      "4               0.8        19        12         25                 1       N  \n",
      "\n",
      "[5 rows x 24 columns]\n",
      "sex                 0\n",
      "age                 0\n",
      "height              0\n",
      "weight              0\n",
      "waistline           0\n",
      "sight_left          0\n",
      "sight_right         0\n",
      "hear_left           0\n",
      "hear_right          0\n",
      "SBP                 0\n",
      "DBP                 0\n",
      "BLDS                0\n",
      "tot_chole           0\n",
      "HDL_chole           0\n",
      "LDL_chole           0\n",
      "triglyceride        0\n",
      "hemoglobin          0\n",
      "urine_protein       0\n",
      "serum_creatinine    0\n",
      "SGOT_AST            0\n",
      "SGOT_ALT            0\n",
      "gamma_GTP           0\n",
      "SMK_stat_type_cd    0\n",
      "DRK_YN              0\n",
      "dtype: int64\n",
      "object\n",
      "object\n"
     ]
    }
   ],
   "source": [
    "df = pd.read_csv('smoking_drinking.csv')\n",
    "print(df.head(5))\n",
    "\n",
    "print(df.isnull().sum())\n",
    "#Concluded no missing values\n",
    "\n",
    "print(df['sex'].dtype)\n",
    "print(df['DRK_YN'].dtype)\n"
   ]
  },
  {
   "cell_type": "code",
   "execution_count": 19,
   "id": "34bac6ae-8dea-44b7-af24-91394e63fb09",
   "metadata": {
    "tags": []
   },
   "outputs": [],
   "source": [
    "df['DRK_YN'] = df['DRK_YN'].map({'Y': 1, 'N': 0, 'unknown': 0})\n",
    "df['sex'] = df['sex'].map({'Male':1, 'Female':0})\n",
    "\n",
    "X = df.drop('DRK_YN', axis = 1)\n",
    "y = df['DRK_YN']\n"
   ]
  },
  {
   "cell_type": "code",
   "execution_count": 20,
   "id": "1e768cf0-d937-48c1-b8ab-28d74817390e",
   "metadata": {
    "tags": []
   },
   "outputs": [],
   "source": [
    "X_train, X_test, y_train, y_test = train_test_split(X, y, test_size=0.2, random_state=1)"
   ]
  },
  {
   "cell_type": "code",
   "execution_count": 21,
   "id": "c575ce77-6ae0-4473-9d72-b61bbb0ae1c3",
   "metadata": {
    "tags": []
   },
   "outputs": [
    {
     "name": "stdout",
     "output_type": "stream",
     "text": [
      "Accuracy: 0.6455641297220961\n",
      "[[63750 35332]\n",
      " [34942 64246]]\n"
     ]
    }
   ],
   "source": [
    "#Decision Tree classifier object\n",
    "clf = DecisionTreeClassifier()\n",
    "\n",
    "# Training Decision Tree Classifier\n",
    "clf = clf.fit(X_train,y_train)\n",
    "\n",
    "#Predicting the response for test dataset\n",
    "y_pred = clf.predict(X_test)\n",
    "\n",
    "print(\"Accuracy:\",metrics.accuracy_score(y_test, y_pred))\n",
    "\n",
    "cnf_matrix = metrics.confusion_matrix(y_test, y_pred)\n",
    "print(cnf_matrix)"
   ]
  },
  {
   "cell_type": "code",
   "execution_count": 22,
   "id": "68bcb052-dc18-4ae9-8cd2-8c75c7d28e8b",
   "metadata": {
    "tags": []
   },
   "outputs": [
    {
     "name": "stdout",
     "output_type": "stream",
     "text": [
      "Accuracy:  0.6455641297220961\n",
      "Precision:  0.645182670871076\n",
      "Recall:  0.6477194821954269\n"
     ]
    }
   ],
   "source": [
    "from sklearn.metrics import accuracy_score, confusion_matrix, precision_score, recall_score, ConfusionMatrixDisplay\n",
    "accuracy = accuracy_score(y_test, y_pred)\n",
    "precision = precision_score(y_test, y_pred)\n",
    "recall = recall_score(y_test, y_pred)\n",
    "\n",
    "print(\"Accuracy: \", accuracy)\n",
    "print(\"Precision: \", precision)\n",
    "print(\"Recall: \", recall)"
   ]
  },
  {
   "cell_type": "code",
   "execution_count": 23,
   "id": "bcf5ae55-f8b4-4122-87fe-a655bf835a72",
   "metadata": {
    "tags": []
   },
   "outputs": [
    {
     "name": "stdout",
     "output_type": "stream",
     "text": [
      "AUC:  0.646\n"
     ]
    }
   ],
   "source": [
    "from sklearn.metrics import roc_auc_score\n",
    "\n",
    "auc = np.round(roc_auc_score(y_test, y_pred),3)\n",
    "print(\"AUC: \", auc)"
   ]
  },
  {
   "cell_type": "code",
   "execution_count": 24,
   "id": "90592b1b-876d-40e8-ab46-1b97e9426e9d",
   "metadata": {
    "tags": []
   },
   "outputs": [
    {
     "data": {
      "text/plain": [
       "<sklearn.metrics._plot.confusion_matrix.ConfusionMatrixDisplay at 0x129043590>"
      ]
     },
     "execution_count": 24,
     "metadata": {},
     "output_type": "execute_result"
    },
    {
     "data": {
      "image/png": "[encoded data removed]",
      "text/plain": [
       "<Figure size 640x480 with 2 Axes>"
      ]
     },
     "metadata": {},
     "output_type": "display_data"
    }
   ],
   "source": [
    "cm = confusion_matrix(y_test, y_pred)\n",
    "ConfusionMatrixDisplay(confusion_matrix = cm).plot()\n"
   ]
  },
  {
   "cell_type": "code",
   "execution_count": null,
   "id": "edb42f67-b3c3-4d3f-bbad-20a9cceac17d",
   "metadata": {},
   "outputs": [],
   "source": []
  }
 ],
 "metadata": {
  "kernelspec": {
   "display_name": "Python 3 (ipykernel)",
   "language": "python",
   "name": "python3"
  },
  "language_info": {
   "codemirror_mode": {
    "name": "ipython",
    "version": 3
   },
   "file_extension": ".py",
   "mimetype": "text/x-python",
   "name": "python",
   "nbconvert_exporter": "python",
   "pygments_lexer": "ipython3",
   "version": "3.11.3"
  }
 },
 "nbformat": 4,
 "nbformat_minor": 5
}
