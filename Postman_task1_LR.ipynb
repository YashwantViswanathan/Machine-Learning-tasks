{
 "cells": [
  {
   "cell_type": "code",
   "execution_count": 27,
   "id": "edc3a1ae-1bba-41a3-983b-4735e20e6e52",
   "metadata": {
    "tags": []
   },
   "outputs": [],
   "source": [
    "import numpy as np\n",
    "import pandas as pd\n",
    "import matplotlib.pyplot as plt\n",
    "import seaborn as sns\n"
   ]
  },
  {
   "cell_type": "code",
   "execution_count": 29,
   "id": "5d7b7eca-3e8c-4c43-ac9a-ee55b66fe904",
   "metadata": {
    "tags": []
   },
   "outputs": [
    {
     "name": "stdout",
     "output_type": "stream",
     "text": [
      "    sex  age  height  weight  waistline  sight_left  sight_right  hear_left  \\\n",
      "0  Male   35     170      75       90.0         1.0          1.0          1   \n",
      "1  Male   30     180      80       89.0         0.9          1.2          1   \n",
      "2  Male   40     165      75       91.0         1.2          1.5          1   \n",
      "3  Male   50     175      80       91.0         1.5          1.2          1   \n",
      "4  Male   50     165      60       80.0         1.0          1.2          1   \n",
      "\n",
      "   hear_right  SBP  ...  LDL_chole  triglyceride  hemoglobin  urine_protein  \\\n",
      "0           1  120  ...        126            92        17.1              1   \n",
      "1           1  130  ...        148           121        15.8              1   \n",
      "2           1  120  ...         74           104        15.8              1   \n",
      "3           1  145  ...        104           106        17.6              1   \n",
      "4           1  138  ...        117           104        13.8              1   \n",
      "\n",
      "   serum_creatinine  SGOT_AST  SGOT_ALT  gamma_GTP  SMK_stat_type_cd  DRK_YN  \n",
      "0               1.0        21        35         40                 1       Y  \n",
      "1               0.9        20        36         27                 3       N  \n",
      "2               0.9        47        32         68                 1       N  \n",
      "3               1.1        29        34         18                 1       N  \n",
      "4               0.8        19        12         25                 1       N  \n",
      "\n",
      "[5 rows x 24 columns]\n",
      "sex                 0\n",
      "age                 0\n",
      "height              0\n",
      "weight              0\n",
      "waistline           0\n",
      "sight_left          0\n",
      "sight_right         0\n",
      "hear_left           0\n",
      "hear_right          0\n",
      "SBP                 0\n",
      "DBP                 0\n",
      "BLDS                0\n",
      "tot_chole           0\n",
      "HDL_chole           0\n",
      "LDL_chole           0\n",
      "triglyceride        0\n",
      "hemoglobin          0\n",
      "urine_protein       0\n",
      "serum_creatinine    0\n",
      "SGOT_AST            0\n",
      "SGOT_ALT            0\n",
      "gamma_GTP           0\n",
      "SMK_stat_type_cd    0\n",
      "DRK_YN              0\n",
      "dtype: int64\n",
      "object\n",
      "object\n"
     ]
    }
   ],
   "source": [
    "df = pd.read_csv('smoking_drinking.csv')\n",
    "print(df.head(5))\n",
    "\n",
    "#Checking for missing values \n",
    "print(df.isnull().sum())\n",
    "#Concluded no missing values\n",
    "\n",
    "print(df['sex'].dtype)\n",
    "print(df['DRK_YN'].dtype)\n"
   ]
  },
  {
   "cell_type": "code",
   "execution_count": 30,
   "id": "550ba814-bcd1-4088-a70c-dd41f6034185",
   "metadata": {
    "tags": []
   },
   "outputs": [],
   "source": [
    "df['DRK_YN'] = df['DRK_YN'].map({'Y': 1, 'N': 0, 'unknown': 0})\n",
    "df['sex'] = df['sex'].map({'Male':1, 'Female':0})\n",
    "\n",
    "X = df.drop('DRK_YN', axis = 1)\n",
    "y = df['DRK_YN']"
   ]
  },
  {
   "cell_type": "code",
   "execution_count": 31,
   "id": "772d4b1e-ece0-4160-bb01-0e8ae698a902",
   "metadata": {
    "tags": []
   },
   "outputs": [],
   "source": [
    "from sklearn.model_selection import train_test_split\n",
    "\n",
    "X_train, X_test, y_train, y_test = train_test_split(X, y, test_size=0.2, random_state = 16)\n"
   ]
  },
  {
   "cell_type": "code",
   "execution_count": 32,
   "id": "038fa7a4-a0ee-44b0-98fb-6b5c876051c8",
   "metadata": {
    "tags": []
   },
   "outputs": [
    {
     "name": "stderr",
     "output_type": "stream",
     "text": [
      "/Users/yashwantviswanathan/anaconda3/lib/python3.11/site-packages/sklearn/linear_model/_logistic.py:458: ConvergenceWarning: lbfgs failed to converge (status=1):\n",
      "STOP: TOTAL NO. of ITERATIONS REACHED LIMIT.\n",
      "\n",
      "Increase the number of iterations (max_iter) or scale the data as shown in:\n",
      "    https://scikit-learn.org/stable/modules/preprocessing.html\n",
      "Please also refer to the documentation for alternative solver options:\n",
      "    https://scikit-learn.org/stable/modules/linear_model.html#logistic-regression\n",
      "  n_iter_i = _check_optimize_result(\n"
     ]
    }
   ],
   "source": [
    "from sklearn.linear_model import LogisticRegression\n",
    "\n",
    "logreg = LogisticRegression(random_state = 16)\n",
    "logreg.fit(X_train, y_train)\n",
    "\n",
    "y_pred = logreg.predict(X_test)\n",
    "\n"
   ]
  },
  {
   "cell_type": "code",
   "execution_count": 33,
   "id": "b18c4eb9-d702-4e56-a221-4d366afe20c2",
   "metadata": {
    "tags": []
   },
   "outputs": [
    {
     "name": "stdout",
     "output_type": "stream",
     "text": [
      "[[72038 27090]\n",
      " [29008 70134]]\n",
      "Accuracy:  0.7170625914157462\n"
     ]
    }
   ],
   "source": [
    "from sklearn import metrics\n",
    "from sklearn.metrics import accuracy_score, confusion_matrix, precision_score, recall_score, ConfusionMatrixDisplay\n",
    "\n",
    "cnf_matrix = metrics.confusion_matrix(y_test, y_pred)\n",
    "print(cnf_matrix)\n",
    "\n",
    "accuracy = accuracy_score(y_test, y_pred)\n",
    "print(\"Accuracy: \", accuracy)\n"
   ]
  },
  {
   "cell_type": "code",
   "execution_count": 34,
   "id": "46593655-d33f-409d-a36c-8c89fe517837",
   "metadata": {
    "tags": []
   },
   "outputs": [
    {
     "name": "stdout",
     "output_type": "stream",
     "text": [
      "Accuracy:  0.7170625914157462\n",
      "Precision:  0.7213650950382622\n",
      "Recall:  0.7074095741461742\n"
     ]
    }
   ],
   "source": [
    "accuracy = accuracy_score(y_test, y_pred)\n",
    "precision = precision_score(y_test, y_pred)\n",
    "recall = recall_score(y_test, y_pred)\n",
    "\n",
    "print(\"Accuracy: \", accuracy)\n",
    "print(\"Precision: \", precision)\n",
    "print(\"Recall: \", recall)"
   ]
  },
  {
   "cell_type": "code",
   "execution_count": 36,
   "id": "82cc029e-62ad-45b7-abd5-68cf0b43af8c",
   "metadata": {
    "tags": []
   },
   "outputs": [
    {
     "name": "stdout",
     "output_type": "stream",
     "text": [
      "AUC:  0.717\n"
     ]
    }
   ],
   "source": [
    "from sklearn.metrics import roc_auc_score\n",
    "\n",
    "auc = np.round(roc_auc_score(y_test, y_pred),3)\n",
    "print(\"AUC: \", auc)"
   ]
  },
  {
   "cell_type": "code",
   "execution_count": 35,
   "id": "bd047e03-90f3-4039-a3e5-f3713a1c2740",
   "metadata": {
    "tags": []
   },
   "outputs": [
    {
     "data": {
      "text/plain": [
       "<sklearn.metrics._plot.confusion_matrix.ConfusionMatrixDisplay at 0x128807290>"
      ]
     },
     "execution_count": 35,
     "metadata": {},
     "output_type": "execute_result"
    },
    {
     "data": {
      "image/png": "[encoded data removed]",
      "text/plain": [
       "<Figure size 640x480 with 2 Axes>"
      ]
     },
     "metadata": {},
     "output_type": "display_data"
    }
   ],
   "source": [
    "cm = confusion_matrix(y_test, y_pred)\n",
    "ConfusionMatrixDisplay(confusion_matrix = cm).plot()\n"
   ]
  },
  {
   "cell_type": "code",
   "execution_count": null,
   "id": "1905c46c-2237-4ec6-ac82-15de68e27d34",
   "metadata": {},
   "outputs": [],
   "source": []
  }
 ],
 "metadata": {
  "kernelspec": {
   "display_name": "Python 3 (ipykernel)",
   "language": "python",
   "name": "python3"
  },
  "language_info": {
   "codemirror_mode": {
    "name": "ipython",
    "version": 3
   },
   "file_extension": ".py",
   "mimetype": "text/x-python",
   "name": "python",
   "nbconvert_exporter": "python",
   "pygments_lexer": "ipython3",
   "version": "3.11.3"
  }
 },
 "nbformat": 4,
 "nbformat_minor": 5
}
